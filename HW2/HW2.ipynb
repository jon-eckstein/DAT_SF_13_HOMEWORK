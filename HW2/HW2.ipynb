{
 "metadata": {
  "name": "",
  "signature": "sha256:74e9731f44d2fa51fdfb3f7bba5354a20804f9e2640c2474cfd7b8b931edf7ce"
 },
 "nbformat": 3,
 "nbformat_minor": 0,
 "worksheets": [
  {
   "cells": [
    {
     "cell_type": "code",
     "collapsed": false,
     "input": [
      "%matplotlib inline\n",
      "import pandas as pd\n",
      "import numpy as np\n",
      "import matplotlib.pyplot as plt\n",
      "from sklearn.datasets import load_iris\n",
      "from sklearn import neighbors, datasets, feature_selection\n",
      "from sklearn.cross_validation import train_test_split, cross_val_score"
     ],
     "language": "python",
     "metadata": {},
     "outputs": [],
     "prompt_number": 494
    },
    {
     "cell_type": "heading",
     "level": 3,
     "metadata": {},
     "source": [
      "1. Implement KNN classification, using the sklearn package."
     ]
    },
    {
     "cell_type": "code",
     "collapsed": false,
     "input": [
      "n_neighbors = range(1, 51, 2)\n",
      "iris = datasets.load_iris()\n",
      "iris_df = pd.DataFrame(iris.data, columns=iris.feature_names)\n",
      "iris_df.head()"
     ],
     "language": "python",
     "metadata": {},
     "outputs": [
      {
       "html": [
        "<div style=\"max-height:1000px;max-width:1500px;overflow:auto;\">\n",
        "<table border=\"1\" class=\"dataframe\">\n",
        "  <thead>\n",
        "    <tr style=\"text-align: right;\">\n",
        "      <th></th>\n",
        "      <th>sepal length (cm)</th>\n",
        "      <th>sepal width (cm)</th>\n",
        "      <th>petal length (cm)</th>\n",
        "      <th>petal width (cm)</th>\n",
        "    </tr>\n",
        "  </thead>\n",
        "  <tbody>\n",
        "    <tr>\n",
        "      <th>0</th>\n",
        "      <td> 5.1</td>\n",
        "      <td> 3.5</td>\n",
        "      <td> 1.4</td>\n",
        "      <td> 0.2</td>\n",
        "    </tr>\n",
        "    <tr>\n",
        "      <th>1</th>\n",
        "      <td> 4.9</td>\n",
        "      <td> 3.0</td>\n",
        "      <td> 1.4</td>\n",
        "      <td> 0.2</td>\n",
        "    </tr>\n",
        "    <tr>\n",
        "      <th>2</th>\n",
        "      <td> 4.7</td>\n",
        "      <td> 3.2</td>\n",
        "      <td> 1.3</td>\n",
        "      <td> 0.2</td>\n",
        "    </tr>\n",
        "    <tr>\n",
        "      <th>3</th>\n",
        "      <td> 4.6</td>\n",
        "      <td> 3.1</td>\n",
        "      <td> 1.5</td>\n",
        "      <td> 0.2</td>\n",
        "    </tr>\n",
        "    <tr>\n",
        "      <th>4</th>\n",
        "      <td> 5.0</td>\n",
        "      <td> 3.6</td>\n",
        "      <td> 1.4</td>\n",
        "      <td> 0.2</td>\n",
        "    </tr>\n",
        "  </tbody>\n",
        "</table>\n",
        "</div>"
       ],
       "metadata": {},
       "output_type": "pyout",
       "prompt_number": 495,
       "text": [
        "   sepal length (cm)  sepal width (cm)  petal length (cm)  petal width (cm)\n",
        "0                5.1               3.5                1.4               0.2\n",
        "1                4.9               3.0                1.4               0.2\n",
        "2                4.7               3.2                1.3               0.2\n",
        "3                4.6               3.1                1.5               0.2\n",
        "4                5.0               3.6                1.4               0.2"
       ]
      }
     ],
     "prompt_number": 495
    },
    {
     "cell_type": "code",
     "collapsed": false,
     "input": [
      "X_train, X_test, y_train, y_test = train_test_split(iris.data, iris.target, test_size=0.3, random_state=12)\n",
      "n=3\n",
      "# for n in n_neighbors:\n",
      "clf = neighbors.KNeighborsClassifier(n)\n",
      "clf.fit(X_train, y_train)\n",
      "x=0\n",
      "train_answers = []\n",
      "for d in X_test:\n",
      "    train_answers.append(clf.predict(d) == y_test[x])\n",
      "    x+=1     \n",
      "all(train_answers)"
     ],
     "language": "python",
     "metadata": {},
     "outputs": [
      {
       "metadata": {},
       "output_type": "pyout",
       "prompt_number": 496,
       "text": [
        "True"
       ]
      }
     ],
     "prompt_number": 496
    },
    {
     "cell_type": "heading",
     "level": 3,
     "metadata": {},
     "source": [
      "2. Use the sklearn package to implement cross-validation for your classifier. Use\n",
      "5 folds for your cross-validation.\n"
     ]
    },
    {
     "cell_type": "code",
     "collapsed": false,
     "input": [
      "from sklearn.cross_validation import cross_val_score\n",
      "clf = neighbors.KNeighborsClassifier(3)\n",
      "scores = cross_val_score(clf, X_test, y_test, cv=5)\n",
      "print scores.mean()"
     ],
     "language": "python",
     "metadata": {},
     "outputs": [
      {
       "output_type": "stream",
       "stream": "stdout",
       "text": [
        "0.933333333333\n"
       ]
      }
     ],
     "prompt_number": 644
    },
    {
     "cell_type": "heading",
     "level": 3,
     "metadata": {},
     "source": [
      "3. Use your KNN classifier and cross-validation code from (1) and (2) above to\n",
      "determine the optimal value of K (number of nearest neighbors to consult) for\n",
      "this Iris dataset. Hint: This hyperparameter will be a number between 1 and\n",
      "150."
     ]
    },
    {
     "cell_type": "code",
     "collapsed": false,
     "input": [
      "X_train, X_test, y_train, y_test = train_test_split(iris.data, iris.target, test_size=0.3, random_state=12)\n",
      "n_neighbors = xrange(1, 120,2) #todo: figure out why it wont go past this number\n",
      "all_scores = []\n",
      "for n in n_neighbors:   \n",
      "    clf = neighbors.KNeighborsClassifier(n)    \n",
      "    scores = cross_val_score(clf, iris.data, iris.target, cv=5)    \n",
      "    all_scores.append(scores.mean())\n",
      "\n",
      "# print all_scores    \n",
      "print np.argmax(all_scores)   "
     ],
     "language": "python",
     "metadata": {},
     "outputs": [
      {
       "output_type": "stream",
       "stream": "stdout",
       "text": [
        "3\n"
       ]
      }
     ],
     "prompt_number": 508
    },
    {
     "cell_type": "heading",
     "level": 3,
     "metadata": {},
     "source": [
      "4. Using matplotlib, plot classifier accuracy versus the hyperparameter K for a\n",
      "range of K that you consider interesting. Explain in words what you are seeing."
     ]
    },
    {
     "cell_type": "code",
     "collapsed": false,
     "input": [
      "plt.plot(n_neighbors, all_scores, linewidth=3.0)"
     ],
     "language": "python",
     "metadata": {},
     "outputs": [
      {
       "metadata": {},
       "output_type": "pyout",
       "prompt_number": 510,
       "text": [
        "[<matplotlib.lines.Line2D at 0x10ff941d0>]"
       ]
      },
      {
       "metadata": {},
       "output_type": "display_data",
       "png": "[encoded data removed]",
       "text": [
        "<matplotlib.figure.Figure at 0x10ff60ad0>"
       ]
      }
     ],
     "prompt_number": 510
    },
    {
     "cell_type": "heading",
     "level": 3,
     "metadata": {},
     "source": [
      "5. Now, write your own implementation of cross-validation in Python without\n",
      "using the cross-validation methods from sklearn. Cross validation is a very\n",
      "important concept. Implementing it yourself in Python is the best way to learn\n",
      "and understand it. Compare the results of your cross-validation code with your\n",
      "results using the cross-validation in sklearn."
     ]
    },
    {
     "cell_type": "code",
     "collapsed": false,
     "input": [
      "from sklearn.utils import shuffle\n",
      "\n",
      "def score_with_kfold(clf,X,y,num_folds):\n",
      "    #shuffle to get a better score...\n",
      "    shuffled_X, shuffled_y = shuffle(X, y,random_state=3)\n",
      "    scores=[]\n",
      "    for test_index in range(num_folds):\n",
      "        train_data, train_targets, test_data, test_targets = [],[],[],[]\n",
      "        for i in range(len(shuffled_X)):\n",
      "            bucket_num = i % num_folds #get the bucket number\n",
      "            \n",
      "            if bucket_num == test_index:\n",
      "                test_data.append(shuffled_X[i])\n",
      "                test_targets.append(shuffled_y[i])\n",
      "            else:\n",
      "                train_data.append(shuffled_X[i])\n",
      "                train_targets.append(shuffled_y[i])\n",
      "            \n",
      "#         print \"test index %s, test_data count %s, train_data count %s\" % (test_index, len(test_data), len(train_data)) \n",
      "        #fit and save the score\n",
      "        clf.fit(train_data, train_targets)\n",
      "        scores.append(clf.score(test_data,test_targets))\n",
      "\n",
      "    return np.mean(scores)\n",
      "    "
     ],
     "language": "python",
     "metadata": {},
     "outputs": [],
     "prompt_number": 739
    },
    {
     "cell_type": "code",
     "collapsed": false,
     "input": [
      "clf = neighbors.KNeighborsClassifier(3)    \n",
      "my_score = score_with_kfold(clf,iris.data,iris.target,5)\n",
      "scores = cross_val_score(clf, iris.data, iris.target, cv=5)\n",
      "print my_score\n",
      "print scores.mean()"
     ],
     "language": "python",
     "metadata": {},
     "outputs": [
      {
       "output_type": "stream",
       "stream": "stdout",
       "text": [
        "0.953333333333\n",
        "0.966666666667\n"
       ]
      }
     ],
     "prompt_number": 717
    },
    {
     "cell_type": "heading",
     "level": 3,
     "metadata": {},
     "source": [
      "6. EXTRA CREDIT 1: Using the value of K obtained in (3) above, vary the\n",
      "number of folds used for cross-validation across an interesting range, e.g. [ 2, 3,\n",
      "5, 6, 10, 15]. "
     ]
    },
    {
     "cell_type": "code",
     "collapsed": false,
     "input": [
      "k=3\n",
      "fold_range = xrange(2,50)\n",
      "fold_scores = []\n",
      "for num_folds in fold_range:\n",
      "    clf = neighbors.KNeighborsClassifier(k)        \n",
      "    scores = cross_val_score(clf, iris.data, iris.target, cv=num_folds)\n",
      "    fold_scores.append(scores.mean())\n",
      "    \n",
      "plt.plot(fold_range, fold_scores , linewidth=3.0)   "
     ],
     "language": "python",
     "metadata": {},
     "outputs": [
      {
       "metadata": {},
       "output_type": "pyout",
       "prompt_number": 718,
       "text": [
        "[<matplotlib.lines.Line2D at 0x10daf18d0>]"
       ]
      },
      {
       "metadata": {},
       "output_type": "display_data",
       "png": "[encoded data removed]",
       "text": [
        "<matplotlib.figure.Figure at 0x110b5c390>"
       ]
      }
     ],
     "prompt_number": 718
    },
    {
     "cell_type": "heading",
     "level": 4,
     "metadata": {},
     "source": [
      "How does classifier accuracy vary with the number of folds used?"
     ]
    },
    {
     "cell_type": "markdown",
     "metadata": {},
     "source": [
      "It reaches min at 2 and max at 3 and everything after is very noisy with no real pattern.  "
     ]
    },
    {
     "cell_type": "heading",
     "level": 4,
     "metadata": {},
     "source": [
      "Do you think there exists an optimal number of folds to use for this particular\n",
      "problem? Why or why not?"
     ]
    },
    {
     "cell_type": "markdown",
     "metadata": {},
     "source": [
      "No I dont think there is an optimal number of folds.  The job of cross validation is to verify that your model is not completely off target.  It seems that any fold number beyond 3 will yield pretty much the same result, thus not providing much benefit to finding an optimal fold number."
     ]
    },
    {
     "cell_type": "heading",
     "level": 3,
     "metadata": {},
     "source": [
      "7. EXTRA CREDIT 2: Write your own implementation of KNN classification in\n",
      "Python, without using the methods from sklearn. Compare your results with\n",
      "the results you obtained using sklearn."
     ]
    },
    {
     "cell_type": "code",
     "collapsed": false,
     "input": [
      "import math\n",
      "import operator\n",
      "from scipy.stats import mode\n",
      "\n",
      "class MyKnn:\n",
      "    \n",
      "    def __init__(self,k):        \n",
      "        self._k = k\n",
      "    \n",
      "    def fit(self,X,y):\n",
      "        self._X = X\n",
      "        self._y = y\n",
      "    \n",
      "    def euclidean_distance(self,n,p):\n",
      "        #sum of the squares of all dimensions\n",
      "        squares_sum=0\n",
      "        if len(n) == len(p):            \n",
      "            for i in range(len(n)):\n",
      "                squares_sum += pow((n[i] - p[i]),2)\n",
      "        else:\n",
      "            raise TypeError(\"dimensions must be the same!\")\n",
      "        return math.sqrt(squares_sum)\n",
      "        \n",
      "    def predict(self,X_new):\n",
      "        #get the euclidean distance for each point in X and X_new\n",
      "        distances = {}\n",
      "        for i in range(len(self._X)):\n",
      "            distances[i] = self.euclidean_distance(self._X[i],X_new)\n",
      "              \n",
      "        #sort the distances ascending\n",
      "        sorted_dist = sorted(distances.items(), key=operator.itemgetter(1))\n",
      "        \n",
      "        #now take the top k indexes and get thier y values\n",
      "        classes=[]\n",
      "        for tpl in sorted_dist[0:self._k]:\n",
      "            classes.append(self._y[tpl[0]])\n",
      "        \n",
      "        #take the mode of all the top k classes\n",
      "        predict_class = mode(classes)[0][0]\n",
      "        return int(predict_class)\n",
      "    \n",
      "    def score(self,X,y):\n",
      "        predict_vals = []   \n",
      "        for i in range(len(X)):            \n",
      "            predict_vals.append(int(self.predict(X[i]) == y[i]))\n",
      "            \n",
      "        return np.mean(predict_vals) \n",
      "    \n"
     ],
     "language": "python",
     "metadata": {},
     "outputs": [],
     "prompt_number": 669
    },
    {
     "cell_type": "code",
     "collapsed": false,
     "input": [
      "X_train, X_test, y_train, y_test = train_test_split(iris.data, iris.target, test_size=0.3, random_state=12)\n",
      "myknn = MyKnn(3)\n",
      "# myknn.fit(X_train, y_train)\n",
      "# myknn.score(X_test,y_test)\n",
      "score_with_kfold(myknn,iris.data,iris.target,3)\n",
      "# scores = cross_val_score(myknn, iris.data, iris.target, cv=5)\n",
      "\n",
      "# score = myknn.score(X_test, y_test)\n",
      "# print score\n",
      "# print scores\n",
      "# myknn.predict(X_train[0])\n",
      "# train_answers = []\n",
      "# x=0\n",
      "# for d in X_test:\n",
      "#     train_answers.append(myknn.predict(d) == y_test[x])\n",
      "#     x+=1     \n",
      "# train_answers"
     ],
     "language": "python",
     "metadata": {},
     "outputs": [
      {
       "metadata": {},
       "output_type": "pyout",
       "prompt_number": 710,
       "text": [
        "0.95999999999999996"
       ]
      }
     ],
     "prompt_number": 710
    },
    {
     "cell_type": "code",
     "collapsed": false,
     "input": [],
     "language": "python",
     "metadata": {},
     "outputs": []
    }
   ],
   "metadata": {}
  }
 ]
}