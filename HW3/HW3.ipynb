{
 "metadata": {
  "name": "",
  "signature": "sha256:c913b4c8302a7903bd55b22bb280586186a0cba2017b08a06a7747f64ca29929"
 },
 "nbformat": 3,
 "nbformat_minor": 0,
 "worksheets": [
  {
   "cells": [
    {
     "cell_type": "heading",
     "level": 1,
     "metadata": {},
     "source": [
      "Homework 3"
     ]
    },
    {
     "cell_type": "heading",
     "level": 3,
     "metadata": {},
     "source": [
      "1. Use the file bank.csv to explore the dataset. Observe the features: Are they numbers? Are they strings? Are they binary? Are they continuous?"
     ]
    },
    {
     "cell_type": "code",
     "collapsed": false,
     "input": [
      "%matplotlib inline\n",
      "import matplotlib.pyplot as plt\n",
      "import pandas as pd\n",
      "import numpy as np\n",
      "\n",
      "bank = pd.read_csv('bank.csv', sep=';')\n",
      "#convert y value to binary...\n",
      "bank['y']  = bank.y.map({'yes':1, 'no':0})\n",
      "bank.head()"
     ],
     "language": "python",
     "metadata": {},
     "outputs": [
      {
       "html": [
        "<div style=\"max-height:1000px;max-width:1500px;overflow:auto;\">\n",
        "<table border=\"1\" class=\"dataframe\">\n",
        "  <thead>\n",
        "    <tr style=\"text-align: right;\">\n",
        "      <th></th>\n",
        "      <th>age</th>\n",
        "      <th>job</th>\n",
        "      <th>marital</th>\n",
        "      <th>education</th>\n",
        "      <th>default</th>\n",
        "      <th>balance</th>\n",
        "      <th>housing</th>\n",
        "      <th>loan</th>\n",
        "      <th>contact</th>\n",
        "      <th>day</th>\n",
        "      <th>month</th>\n",
        "      <th>duration</th>\n",
        "      <th>campaign</th>\n",
        "      <th>pdays</th>\n",
        "      <th>previous</th>\n",
        "      <th>poutcome</th>\n",
        "      <th>y</th>\n",
        "    </tr>\n",
        "  </thead>\n",
        "  <tbody>\n",
        "    <tr>\n",
        "      <th>0</th>\n",
        "      <td> 30</td>\n",
        "      <td>  unemployed</td>\n",
        "      <td> married</td>\n",
        "      <td>   primary</td>\n",
        "      <td> no</td>\n",
        "      <td> 1787</td>\n",
        "      <td>  no</td>\n",
        "      <td>  no</td>\n",
        "      <td> cellular</td>\n",
        "      <td> 19</td>\n",
        "      <td> oct</td>\n",
        "      <td>  79</td>\n",
        "      <td> 1</td>\n",
        "      <td>  -1</td>\n",
        "      <td> 0</td>\n",
        "      <td> unknown</td>\n",
        "      <td> 0</td>\n",
        "    </tr>\n",
        "    <tr>\n",
        "      <th>1</th>\n",
        "      <td> 33</td>\n",
        "      <td>    services</td>\n",
        "      <td> married</td>\n",
        "      <td> secondary</td>\n",
        "      <td> no</td>\n",
        "      <td> 4789</td>\n",
        "      <td> yes</td>\n",
        "      <td> yes</td>\n",
        "      <td> cellular</td>\n",
        "      <td> 11</td>\n",
        "      <td> may</td>\n",
        "      <td> 220</td>\n",
        "      <td> 1</td>\n",
        "      <td> 339</td>\n",
        "      <td> 4</td>\n",
        "      <td> failure</td>\n",
        "      <td> 0</td>\n",
        "    </tr>\n",
        "    <tr>\n",
        "      <th>2</th>\n",
        "      <td> 35</td>\n",
        "      <td>  management</td>\n",
        "      <td>  single</td>\n",
        "      <td>  tertiary</td>\n",
        "      <td> no</td>\n",
        "      <td> 1350</td>\n",
        "      <td> yes</td>\n",
        "      <td>  no</td>\n",
        "      <td> cellular</td>\n",
        "      <td> 16</td>\n",
        "      <td> apr</td>\n",
        "      <td> 185</td>\n",
        "      <td> 1</td>\n",
        "      <td> 330</td>\n",
        "      <td> 1</td>\n",
        "      <td> failure</td>\n",
        "      <td> 0</td>\n",
        "    </tr>\n",
        "    <tr>\n",
        "      <th>3</th>\n",
        "      <td> 30</td>\n",
        "      <td>  management</td>\n",
        "      <td> married</td>\n",
        "      <td>  tertiary</td>\n",
        "      <td> no</td>\n",
        "      <td> 1476</td>\n",
        "      <td> yes</td>\n",
        "      <td> yes</td>\n",
        "      <td>  unknown</td>\n",
        "      <td>  3</td>\n",
        "      <td> jun</td>\n",
        "      <td> 199</td>\n",
        "      <td> 4</td>\n",
        "      <td>  -1</td>\n",
        "      <td> 0</td>\n",
        "      <td> unknown</td>\n",
        "      <td> 0</td>\n",
        "    </tr>\n",
        "    <tr>\n",
        "      <th>4</th>\n",
        "      <td> 59</td>\n",
        "      <td> blue-collar</td>\n",
        "      <td> married</td>\n",
        "      <td> secondary</td>\n",
        "      <td> no</td>\n",
        "      <td>    0</td>\n",
        "      <td> yes</td>\n",
        "      <td>  no</td>\n",
        "      <td>  unknown</td>\n",
        "      <td>  5</td>\n",
        "      <td> may</td>\n",
        "      <td> 226</td>\n",
        "      <td> 1</td>\n",
        "      <td>  -1</td>\n",
        "      <td> 0</td>\n",
        "      <td> unknown</td>\n",
        "      <td> 0</td>\n",
        "    </tr>\n",
        "  </tbody>\n",
        "</table>\n",
        "</div>"
       ],
       "metadata": {},
       "output_type": "pyout",
       "prompt_number": 5,
       "text": [
        "   age          job  marital  education default  balance housing loan  \\\n",
        "0   30   unemployed  married    primary      no     1787      no   no   \n",
        "1   33     services  married  secondary      no     4789     yes  yes   \n",
        "2   35   management   single   tertiary      no     1350     yes   no   \n",
        "3   30   management  married   tertiary      no     1476     yes  yes   \n",
        "4   59  blue-collar  married  secondary      no        0     yes   no   \n",
        "\n",
        "    contact  day month  duration  campaign  pdays  previous poutcome  y  \n",
        "0  cellular   19   oct        79         1     -1         0  unknown  0  \n",
        "1  cellular   11   may       220         1    339         4  failure  0  \n",
        "2  cellular   16   apr       185         1    330         1  failure  0  \n",
        "3   unknown    3   jun       199         4     -1         0  unknown  0  \n",
        "4   unknown    5   may       226         1     -1         0  unknown  0  "
       ]
      }
     ],
     "prompt_number": 5
    },
    {
     "cell_type": "markdown",
     "metadata": {},
     "source": [
      "- _age_: number | continuous\n",
      "- _job_: string | discrete\n",
      "- _marital_: string | discrete\n",
      "- _education_: string | discrete\n",
      "- _default_: string | discrete\n",
      "- _balance_ : number | continuous\n",
      "- _housing_ : string | discrete\n",
      "- _loan_ : string | discrete\n",
      "- _contact_ : string | discrete\n",
      "- _day_ : number | discrete\n",
      "- _month_ : string | discrete\n",
      "- _duration_ : number | continuous\n",
      "- _pdays_ : number | continuous\n",
      "- _previous_ : number | continuous\n",
      "- _poutcome_ : string | discrete"
     ]
    },
    {
     "cell_type": "heading",
     "level": 3,
     "metadata": {},
     "source": [
      "2. Learn about label encoders at the following link and use what you learn to transform the features to numerical features."
     ]
    },
    {
     "cell_type": "code",
     "collapsed": false,
     "input": [
      "from sklearn import preprocessing\n",
      "\n",
      "def one_hot_transform_categorical(df, categorical_columns):\n",
      "    #add temp variables and transform columns to unique nums\n",
      "    inverse_lookup={}\n",
      "    for col in categorical_columns:\n",
      "        a,b = np.unique(df[col], return_inverse=True) #using this instead of LabelEncoder b/c it's easier\n",
      "        col_name = 'x' + col\n",
      "        df[col_name] = b\n",
      "        inverse_lookup[col_name] = a\n",
      "        \n",
      "    # use the OneHotEncoder to encode all the discete columns...\n",
      "    temp_categorical_columns = ['x'+ col for col in categorical_columns]\n",
      "    categorical_features = df[temp_categorical_columns]\n",
      "    \n",
      "    enc = preprocessing.OneHotEncoder()    \n",
      "    fit_data = enc.fit_transform(categorical_features)\n",
      "\n",
      "    #get the column names for the newly transformed data..\n",
      "    column_names = []\n",
      "    for feat_name in temp_categorical_columns:\n",
      "        labels = inverse_lookup[feat_name] \n",
      "        for label in labels:\n",
      "            column_names.append('is_' + feat_name[1:] + '_' + str(label) + \"?\")\n",
      "\n",
      "    #now append the transformed data to the original data set..\n",
      "    dfx = pd.DataFrame(data=fit_data.toarray(), columns=column_names)\n",
      "    df_final = df.join(dfx)\n",
      "    \n",
      "    #remove the original & temp columns \n",
      "    df_final = df_final.drop(categorical_columns,1)\n",
      "    df_final = df_final.drop(temp_categorical_columns,1)\n",
      "    \n",
      "    return df_final"
     ],
     "language": "python",
     "metadata": {},
     "outputs": [],
     "prompt_number": 14
    },
    {
     "cell_type": "code",
     "collapsed": false,
     "input": [
      "def verify_transform(dt_original,dt_transformed,col_names):\n",
      "    truth = []\n",
      "    for i in range(len(dt_original)):\n",
      "        for col_name in col_names:\n",
      "            val = dt_original.ix[i][col_name]\n",
      "            truth.append(dt_transformed.ix[i]['is_' + col_name  + '_' + str(val) +'?'] == 1) \n",
      "    \n",
      "    return all(truth)\n",
      "    "
     ],
     "language": "python",
     "metadata": {},
     "outputs": [],
     "prompt_number": 12
    },
    {
     "cell_type": "code",
     "collapsed": false,
     "input": [
      "categorical = ['job','marital', 'education','default','housing',\n",
      "                       'loan','contact','poutcome','month','day','campaign']\n",
      "bank_transformed = one_hot_transform_categorical(bank,categorical)\n",
      "bank_transformed.head()"
     ],
     "language": "python",
     "metadata": {},
     "outputs": [
      {
       "html": [
        "<div style=\"max-height:1000px;max-width:1500px;overflow:auto;\">\n",
        "<table border=\"1\" class=\"dataframe\">\n",
        "  <thead>\n",
        "    <tr style=\"text-align: right;\">\n",
        "      <th></th>\n",
        "      <th>age</th>\n",
        "      <th>balance</th>\n",
        "      <th>duration</th>\n",
        "      <th>pdays</th>\n",
        "      <th>previous</th>\n",
        "      <th>y</th>\n",
        "      <th>is_job_admin.?</th>\n",
        "      <th>is_job_blue-collar?</th>\n",
        "      <th>is_job_entrepreneur?</th>\n",
        "      <th>is_job_housemaid?</th>\n",
        "      <th>...</th>\n",
        "      <th>is_campaign_23?</th>\n",
        "      <th>is_campaign_24?</th>\n",
        "      <th>is_campaign_25?</th>\n",
        "      <th>is_campaign_28?</th>\n",
        "      <th>is_campaign_29?</th>\n",
        "      <th>is_campaign_30?</th>\n",
        "      <th>is_campaign_31?</th>\n",
        "      <th>is_campaign_32?</th>\n",
        "      <th>is_campaign_44?</th>\n",
        "      <th>is_campaign_50?</th>\n",
        "    </tr>\n",
        "  </thead>\n",
        "  <tbody>\n",
        "    <tr>\n",
        "      <th>0</th>\n",
        "      <td> 30</td>\n",
        "      <td> 1787</td>\n",
        "      <td>  79</td>\n",
        "      <td>  -1</td>\n",
        "      <td> 0</td>\n",
        "      <td> 0</td>\n",
        "      <td> 0</td>\n",
        "      <td> 0</td>\n",
        "      <td> 0</td>\n",
        "      <td> 0</td>\n",
        "      <td>...</td>\n",
        "      <td> 0</td>\n",
        "      <td> 0</td>\n",
        "      <td> 0</td>\n",
        "      <td> 0</td>\n",
        "      <td> 0</td>\n",
        "      <td> 0</td>\n",
        "      <td> 0</td>\n",
        "      <td> 0</td>\n",
        "      <td> 0</td>\n",
        "      <td> 0</td>\n",
        "    </tr>\n",
        "    <tr>\n",
        "      <th>1</th>\n",
        "      <td> 33</td>\n",
        "      <td> 4789</td>\n",
        "      <td> 220</td>\n",
        "      <td> 339</td>\n",
        "      <td> 4</td>\n",
        "      <td> 0</td>\n",
        "      <td> 0</td>\n",
        "      <td> 0</td>\n",
        "      <td> 0</td>\n",
        "      <td> 0</td>\n",
        "      <td>...</td>\n",
        "      <td> 0</td>\n",
        "      <td> 0</td>\n",
        "      <td> 0</td>\n",
        "      <td> 0</td>\n",
        "      <td> 0</td>\n",
        "      <td> 0</td>\n",
        "      <td> 0</td>\n",
        "      <td> 0</td>\n",
        "      <td> 0</td>\n",
        "      <td> 0</td>\n",
        "    </tr>\n",
        "    <tr>\n",
        "      <th>2</th>\n",
        "      <td> 35</td>\n",
        "      <td> 1350</td>\n",
        "      <td> 185</td>\n",
        "      <td> 330</td>\n",
        "      <td> 1</td>\n",
        "      <td> 0</td>\n",
        "      <td> 0</td>\n",
        "      <td> 0</td>\n",
        "      <td> 0</td>\n",
        "      <td> 0</td>\n",
        "      <td>...</td>\n",
        "      <td> 0</td>\n",
        "      <td> 0</td>\n",
        "      <td> 0</td>\n",
        "      <td> 0</td>\n",
        "      <td> 0</td>\n",
        "      <td> 0</td>\n",
        "      <td> 0</td>\n",
        "      <td> 0</td>\n",
        "      <td> 0</td>\n",
        "      <td> 0</td>\n",
        "    </tr>\n",
        "    <tr>\n",
        "      <th>3</th>\n",
        "      <td> 30</td>\n",
        "      <td> 1476</td>\n",
        "      <td> 199</td>\n",
        "      <td>  -1</td>\n",
        "      <td> 0</td>\n",
        "      <td> 0</td>\n",
        "      <td> 0</td>\n",
        "      <td> 0</td>\n",
        "      <td> 0</td>\n",
        "      <td> 0</td>\n",
        "      <td>...</td>\n",
        "      <td> 0</td>\n",
        "      <td> 0</td>\n",
        "      <td> 0</td>\n",
        "      <td> 0</td>\n",
        "      <td> 0</td>\n",
        "      <td> 0</td>\n",
        "      <td> 0</td>\n",
        "      <td> 0</td>\n",
        "      <td> 0</td>\n",
        "      <td> 0</td>\n",
        "    </tr>\n",
        "    <tr>\n",
        "      <th>4</th>\n",
        "      <td> 59</td>\n",
        "      <td>    0</td>\n",
        "      <td> 226</td>\n",
        "      <td>  -1</td>\n",
        "      <td> 0</td>\n",
        "      <td> 0</td>\n",
        "      <td> 0</td>\n",
        "      <td> 1</td>\n",
        "      <td> 0</td>\n",
        "      <td> 0</td>\n",
        "      <td>...</td>\n",
        "      <td> 0</td>\n",
        "      <td> 0</td>\n",
        "      <td> 0</td>\n",
        "      <td> 0</td>\n",
        "      <td> 0</td>\n",
        "      <td> 0</td>\n",
        "      <td> 0</td>\n",
        "      <td> 0</td>\n",
        "      <td> 0</td>\n",
        "      <td> 0</td>\n",
        "    </tr>\n",
        "  </tbody>\n",
        "</table>\n",
        "<p>5 rows \u00d7 113 columns</p>\n",
        "</div>"
       ],
       "metadata": {},
       "output_type": "pyout",
       "prompt_number": 15,
       "text": [
        "   age  balance  duration  pdays  previous  y  is_job_admin.?  \\\n",
        "0   30     1787        79     -1         0  0               0   \n",
        "1   33     4789       220    339         4  0               0   \n",
        "2   35     1350       185    330         1  0               0   \n",
        "3   30     1476       199     -1         0  0               0   \n",
        "4   59        0       226     -1         0  0               0   \n",
        "\n",
        "   is_job_blue-collar?  is_job_entrepreneur?  is_job_housemaid?  \\\n",
        "0                    0                     0                  0   \n",
        "1                    0                     0                  0   \n",
        "2                    0                     0                  0   \n",
        "3                    0                     0                  0   \n",
        "4                    1                     0                  0   \n",
        "\n",
        "         ...          is_campaign_23?  is_campaign_24?  is_campaign_25?  \\\n",
        "0        ...                        0                0                0   \n",
        "1        ...                        0                0                0   \n",
        "2        ...                        0                0                0   \n",
        "3        ...                        0                0                0   \n",
        "4        ...                        0                0                0   \n",
        "\n",
        "   is_campaign_28?  is_campaign_29?  is_campaign_30?  is_campaign_31?  \\\n",
        "0                0                0                0                0   \n",
        "1                0                0                0                0   \n",
        "2                0                0                0                0   \n",
        "3                0                0                0                0   \n",
        "4                0                0                0                0   \n",
        "\n",
        "   is_campaign_32?  is_campaign_44?  is_campaign_50?  \n",
        "0                0                0                0  \n",
        "1                0                0                0  \n",
        "2                0                0                0  \n",
        "3                0                0                0  \n",
        "4                0                0                0  \n",
        "\n",
        "[5 rows x 113 columns]"
       ]
      }
     ],
     "prompt_number": 15
    },
    {
     "cell_type": "code",
     "collapsed": false,
     "input": [
      "#test the transformation\n",
      "verify_transform(bank, bank_transformed,categorical)"
     ],
     "language": "python",
     "metadata": {},
     "outputs": [
      {
       "metadata": {},
       "output_type": "pyout",
       "prompt_number": 411,
       "text": [
        "True"
       ]
      }
     ],
     "prompt_number": 411
    },
    {
     "cell_type": "heading",
     "level": 3,
     "metadata": {},
     "source": [
      "3. Build a decision tree model to predict whether a prospect will buy the product."
     ]
    },
    {
     "cell_type": "code",
     "collapsed": false,
     "input": [
      "from sklearn.cross_validation import train_test_split\n",
      "from sklearn.tree import DecisionTreeClassifier\n",
      "from sklearn import metrics\n",
      "\n",
      "X = bank_transformed.drop('y', axis=1)\n",
      "y = bank.y\n",
      "treereg = DecisionTreeClassifier(random_state=1)\n",
      "\n",
      "X_train, X_test, y_train, y_test = train_test_split(X, y, random_state=1)\n",
      "treereg.fit(X_train, y_train)\n",
      "score = treereg.score(X_test, y_test)\n",
      "print score"
     ],
     "language": "python",
     "metadata": {},
     "outputs": [
      {
       "output_type": "stream",
       "stream": "stdout",
       "text": [
        "0.861184792219\n"
       ]
      }
     ],
     "prompt_number": 47
    },
    {
     "cell_type": "heading",
     "level": 3,
     "metadata": {},
     "source": [
      "4. Evaluate the accuracy of your decision tree model using cross validation."
     ]
    },
    {
     "cell_type": "code",
     "collapsed": false,
     "input": [
      "from sklearn.cross_validation import cross_val_score\n",
      "def show_scores(X,y):\n",
      "    for depth in [1,2,3,4]:    \n",
      "        treereg = DecisionTreeClassifier(max_depth=depth, random_state=1)\n",
      "        scores = cross_val_score(treereg, X, y, cv=3, scoring='accuracy')\n",
      "        print \"max_depth: \" + str(depth) + \" score: \" + str(np.mean(scores))\n",
      "        \n",
      "show_scores(X,y)"
     ],
     "language": "python",
     "metadata": {},
     "outputs": [
      {
       "output_type": "stream",
       "stream": "stdout",
       "text": [
        "max_depth: 1 score: 0.884096111202\n",
        "max_depth: 2 score: 0.895379740129\n",
        "max_depth: 3 score: 0.896706733854"
       ]
      },
      {
       "output_type": "stream",
       "stream": "stdout",
       "text": [
        "\n",
        "max_depth: 4 score: 0.893389617209\n"
       ]
      }
     ],
     "prompt_number": 44
    },
    {
     "cell_type": "code",
     "collapsed": false,
     "input": [
      "treereg = DecisionTreeClassifier(max_depth=3, random_state=1)\n",
      "treereg.fit(X,y)\n",
      "dfp = pd.DataFrame({'feature':X.columns, 'importance':treereg.feature_importances_})\n",
      "dfp.sort('importance',ascending=False).head()"
     ],
     "language": "python",
     "metadata": {},
     "outputs": [
      {
       "html": [
        "<div style=\"max-height:1000px;max-width:1500px;overflow:auto;\">\n",
        "<table border=\"1\" class=\"dataframe\">\n",
        "  <thead>\n",
        "    <tr style=\"text-align: right;\">\n",
        "      <th></th>\n",
        "      <th>feature</th>\n",
        "      <th>importance</th>\n",
        "    </tr>\n",
        "  </thead>\n",
        "  <tbody>\n",
        "    <tr>\n",
        "      <th>2 </th>\n",
        "      <td>             duration</td>\n",
        "      <td> 0.616308</td>\n",
        "    </tr>\n",
        "    <tr>\n",
        "      <th>35</th>\n",
        "      <td> is_poutcome_success?</td>\n",
        "      <td> 0.324188</td>\n",
        "    </tr>\n",
        "    <tr>\n",
        "      <th>18</th>\n",
        "      <td>  is_marital_married?</td>\n",
        "      <td> 0.029418</td>\n",
        "    </tr>\n",
        "    <tr>\n",
        "      <th>30</th>\n",
        "      <td> is_contact_cellular?</td>\n",
        "      <td> 0.018611</td>\n",
        "    </tr>\n",
        "    <tr>\n",
        "      <th>66</th>\n",
        "      <td>           is_day_18?</td>\n",
        "      <td> 0.011474</td>\n",
        "    </tr>\n",
        "  </tbody>\n",
        "</table>\n",
        "</div>"
       ],
       "metadata": {},
       "output_type": "pyout",
       "prompt_number": 41,
       "text": [
        "                 feature  importance\n",
        "2               duration    0.616308\n",
        "35  is_poutcome_success?    0.324188\n",
        "18   is_marital_married?    0.029418\n",
        "30  is_contact_cellular?    0.018611\n",
        "66            is_day_18?    0.011474"
       ]
      }
     ],
     "prompt_number": 41
    },
    {
     "cell_type": "code",
     "collapsed": false,
     "input": [
      "from sklearn.tree import export_graphviz\n",
      "\n",
      "treereg = DecisionTreeClassifier(max_depth=3, random_state=1)\n",
      "treereg.fit(X,y)\n",
      "\n",
      "with open(\"bank.dot\", 'wb') as f:\n",
      "    f = export_graphviz(treereg, out_file=f, feature_names=X.columns)"
     ],
     "language": "python",
     "metadata": {},
     "outputs": [],
     "prompt_number": 23
    },
    {
     "cell_type": "markdown",
     "metadata": {},
     "source": [
      "<img src=\"bank2.png\" />"
     ]
    },
    {
     "cell_type": "heading",
     "level": 3,
     "metadata": {},
     "source": [
      "5. Repeat the analysis and cross validation with the file bank-additional-full.csv. How does the performance of the model change (with the additional training examples and additional features)?"
     ]
    },
    {
     "cell_type": "code",
     "collapsed": false,
     "input": [
      "bank_full = pd.read_csv('bank-additional-full.csv', sep=';')\n",
      "bank_full['y']  = bank_full.y.map({'yes':1, 'no':0})\n",
      "categorical = ['job','marital', 'education','default','housing',\n",
      "                       'loan','contact','poutcome','month', 'day_of_week','campaign']\n",
      "bank_full_transformed = one_hot_transform_categorical(bank_full,categorical)\n",
      "\n",
      "X_full = bank_full_transformed.drop('y', axis=1)\n",
      "y_full = bank_full.y\n",
      "\n",
      "show_scores(X_full,y_full)"
     ],
     "language": "python",
     "metadata": {},
     "outputs": [
      {
       "output_type": "stream",
       "stream": "stdout",
       "text": [
        "max_depth: 1 score: 0.642711992325\n",
        "max_depth: 2 score: 0.644095823352"
       ]
      },
      {
       "output_type": "stream",
       "stream": "stdout",
       "text": [
        "\n",
        "max_depth: 3 score: 0.632369637322"
       ]
      },
      {
       "output_type": "stream",
       "stream": "stdout",
       "text": [
        "\n",
        "max_depth: 4 score: 0.632078304475"
       ]
      },
      {
       "output_type": "stream",
       "stream": "stdout",
       "text": [
        "\n"
       ]
      }
     ],
     "prompt_number": 45
    },
    {
     "cell_type": "markdown",
     "metadata": {},
     "source": [
      "The performance of the model got worse, i.e. the accuracy score error goes down."
     ]
    },
    {
     "cell_type": "code",
     "collapsed": false,
     "input": [
      "treereg = DecisionTreeClassifier(max_depth=3, random_state=1)\n",
      "treereg.fit(X_full,y_full)\n",
      "dfp = pd.DataFrame({'feature':X_full.columns, 'importance':treereg.feature_importances_})\n",
      "dfp.sort('importance',ascending=False).head()"
     ],
     "language": "python",
     "metadata": {},
     "outputs": [
      {
       "html": [
        "<div style=\"max-height:1000px;max-width:1500px;overflow:auto;\">\n",
        "<table border=\"1\" class=\"dataframe\">\n",
        "  <thead>\n",
        "    <tr style=\"text-align: right;\">\n",
        "      <th></th>\n",
        "      <th>feature</th>\n",
        "      <th>importance</th>\n",
        "    </tr>\n",
        "  </thead>\n",
        "  <tbody>\n",
        "    <tr>\n",
        "      <th>1 </th>\n",
        "      <td>             duration</td>\n",
        "      <td> 0.505931</td>\n",
        "    </tr>\n",
        "    <tr>\n",
        "      <th>8 </th>\n",
        "      <td>          nr.employed</td>\n",
        "      <td> 0.409071</td>\n",
        "    </tr>\n",
        "    <tr>\n",
        "      <th>6 </th>\n",
        "      <td>        cons.conf.idx</td>\n",
        "      <td> 0.037775</td>\n",
        "    </tr>\n",
        "    <tr>\n",
        "      <th>2 </th>\n",
        "      <td>                pdays</td>\n",
        "      <td> 0.034946</td>\n",
        "    </tr>\n",
        "    <tr>\n",
        "      <th>46</th>\n",
        "      <td> is_poutcome_success?</td>\n",
        "      <td> 0.012276</td>\n",
        "    </tr>\n",
        "  </tbody>\n",
        "</table>\n",
        "</div>"
       ],
       "metadata": {},
       "output_type": "pyout",
       "prompt_number": 40,
       "text": [
        "                 feature  importance\n",
        "1               duration    0.505931\n",
        "8            nr.employed    0.409071\n",
        "6          cons.conf.idx    0.037775\n",
        "2                  pdays    0.034946\n",
        "46  is_poutcome_success?    0.012276"
       ]
      }
     ],
     "prompt_number": 40
    },
    {
     "cell_type": "code",
     "collapsed": false,
     "input": [
      "from sklearn.tree import export_graphviz\n",
      "\n",
      "treereg = DecisionTreeClassifier(max_depth=3, random_state=1)\n",
      "treereg.fit(X_full,y_full)\n",
      "\n",
      "with open(\"bank-full.dot\", 'wb') as f:\n",
      "    f = export_graphviz(treereg, out_file=f, feature_names=X_full.columns)"
     ],
     "language": "python",
     "metadata": {},
     "outputs": [],
     "prompt_number": 26
    },
    {
     "cell_type": "markdown",
     "metadata": {},
     "source": [
      "<img src=\"bank-full2.png\" />"
     ]
    },
    {
     "cell_type": "code",
     "collapsed": false,
     "input": [],
     "language": "python",
     "metadata": {},
     "outputs": []
    }
   ],
   "metadata": {}
  }
 ]
}