{
 "cells": [
  {
   "cell_type": "markdown",
   "metadata": {},
   "source": [
    "## Project - Artist Recommender System"
   ]
  },
  {
   "cell_type": "markdown",
   "metadata": {},
   "source": [
    "**Background**\n",
    "<p>\n",
    "I work at [bop.fm](https://bop.fm) where we aggregate several different music streaming providers into one service.  We provide song recommendations, via a third party service, but we dont provide artist recommendations.  I'm hoping to provide artist recommendations in the form of similar artist for a given song's artist by utilizing data from our user's listening behavior and a recommender system.\n",
    "</p>"
   ]
  },
  {
   "cell_type": "markdown",
   "metadata": {},
   "source": [
    "Get the data. Beware! this is around 200Mb..."
   ]
  },
  {
   "cell_type": "code",
   "execution_count": null,
   "metadata": {
    "collapsed": false
   },
   "outputs": [],
   "source": [
    "! curl -L -O https://www.dropbox.com/s/9la1ysbuznbjinp/listens_filtered.tar.gz\\?dl\\=0"
   ]
  },
  {
   "cell_type": "code",
   "execution_count": null,
   "metadata": {
    "collapsed": true
   },
   "outputs": [],
   "source": [
    "!pip install python-slugify"
   ]
  },
  {
   "cell_type": "code",
   "execution_count": 96,
   "metadata": {
    "collapsed": false
   },
   "outputs": [],
   "source": [
    "#the necessary imports....\n",
    "import pandas as pd\n",
    "import numpy as np\n",
    "import seaborn as sns\n",
    "import matplotlib.pyplot as plt\n",
    "\n",
    "from recsys.evaluation.decision import PrecisionRecallF1\n",
    "import recsys.algorithm\n",
    "recsys.algorithm.VERBOSE = True\n",
    "from recsys.algorithm.factorize import SVD\n",
    "\n",
    "import json\n",
    "import urllib2\n",
    "import urllib\n",
    "from slugify import slugify\n",
    "\n",
    "%matplotlib inline"
   ]
  },
  {
   "cell_type": "code",
   "execution_count": 97,
   "metadata": {
    "collapsed": false
   },
   "outputs": [],
   "source": [
    "#load the dataset retrieved from server...\n",
    "listens_raw_df = pd.read_csv(\"listens_filtered.tar.gz\", compression='gzip',  header=None)"
   ]
  },
  {
   "cell_type": "code",
   "execution_count": 98,
   "metadata": {
    "collapsed": false
   },
   "outputs": [
    {
     "name": "stdout",
     "output_type": "stream",
     "text": [
      "20746234\n"
     ]
    },
    {
     "data": {
      "text/html": [
       "<div style=\"max-height:1000px;max-width:1500px;overflow:auto;\">\n",
       "<table border=\"1\" class=\"dataframe\">\n",
       "  <thead>\n",
       "    <tr style=\"text-align: right;\">\n",
       "      <th></th>\n",
       "      <th>type</th>\n",
       "      <th>song_url</th>\n",
       "      <th>artist_id</th>\n",
       "      <th>song_id</th>\n",
       "      <th>user_id</th>\n",
       "    </tr>\n",
       "  </thead>\n",
       "  <tbody>\n",
       "    <tr>\n",
       "      <th>0</th>\n",
       "      <td> song</td>\n",
       "      <td>                      john-legend/my-shoes</td>\n",
       "      <td>       john-legend</td>\n",
       "      <td>                 my-shoes</td>\n",
       "      <td> 51c29b65a726250bef000079</td>\n",
       "    </tr>\n",
       "    <tr>\n",
       "      <th>1</th>\n",
       "      <td> song</td>\n",
       "      <td>                     john-legend/all-of-me</td>\n",
       "      <td>       john-legend</td>\n",
       "      <td>                all-of-me</td>\n",
       "      <td> 51dc7bdc368cb5ff33000001</td>\n",
       "    </tr>\n",
       "    <tr>\n",
       "      <th>2</th>\n",
       "      <td> song</td>\n",
       "      <td> jazmine-sullivan/in-love-with-another-man</td>\n",
       "      <td>  jazmine-sullivan</td>\n",
       "      <td> in-love-with-another-man</td>\n",
       "      <td> 51dc7bdc368cb5ff33000001</td>\n",
       "    </tr>\n",
       "    <tr>\n",
       "      <th>3</th>\n",
       "      <td> song</td>\n",
       "      <td>                 justin-timberlake/mirrors</td>\n",
       "      <td> justin-timberlake</td>\n",
       "      <td>                  mirrors</td>\n",
       "      <td> 51dc7bdc368cb5ff33000001</td>\n",
       "    </tr>\n",
       "    <tr>\n",
       "      <th>4</th>\n",
       "      <td> song</td>\n",
       "      <td>                      beyonce/pretty-hurts</td>\n",
       "      <td>           beyonce</td>\n",
       "      <td>             pretty-hurts</td>\n",
       "      <td> 51dc7bdc368cb5ff33000001</td>\n",
       "    </tr>\n",
       "  </tbody>\n",
       "</table>\n",
       "</div>"
      ],
      "text/plain": [
       "   type                                   song_url          artist_id  \\\n",
       "0  song                       john-legend/my-shoes        john-legend   \n",
       "1  song                      john-legend/all-of-me        john-legend   \n",
       "2  song  jazmine-sullivan/in-love-with-another-man   jazmine-sullivan   \n",
       "3  song                  justin-timberlake/mirrors  justin-timberlake   \n",
       "4  song                       beyonce/pretty-hurts            beyonce   \n",
       "\n",
       "                    song_id                   user_id  \n",
       "0                  my-shoes  51c29b65a726250bef000079  \n",
       "1                 all-of-me  51dc7bdc368cb5ff33000001  \n",
       "2  in-love-with-another-man  51dc7bdc368cb5ff33000001  \n",
       "3                   mirrors  51dc7bdc368cb5ff33000001  \n",
       "4              pretty-hurts  51dc7bdc368cb5ff33000001  "
      ]
     },
     "execution_count": 98,
     "metadata": {},
     "output_type": "execute_result"
    }
   ],
   "source": [
    "#set the column names\n",
    "listens_raw_df.columns = [\"type\",\"song_url\",\"artist_id\", \"song_id\", \"user_id\"]\n",
    "#this just a weird thing that happens on import\n",
    "listens_raw_df.ix[0,0] = \"song\"\n",
    "#look at a sample\n",
    "print len(listens_raw_df)\n",
    "listens_raw_df.head()"
   ]
  },
  {
   "cell_type": "markdown",
   "metadata": {},
   "source": [
    "**Data Description**\n",
    "<p>The listen data represents a row each time a system user listens to a given song.  For the purposes of this exercise a listen is defined as when a user listens to at least 4 seconds of a song.</p>"
   ]
  },
  {
   "cell_type": "markdown",
   "metadata": {},
   "source": [
    "**Data Dictionary** for *listens* data:\n",
    "* *type* - will always be 'song'.\n",
    "* *song_url* - an identifier for a given song.\n",
    "* *created_at* - time stamp of when the listen. \n",
    "* *artist_id* - an identifier for the attributed artist for the given song.\n",
    "* *song_id* - a secondary identifier for the song.\n",
    "* *user_id* - a unique identifier for a system user."
   ]
  },
  {
   "cell_type": "code",
   "execution_count": 99,
   "metadata": {
    "collapsed": false
   },
   "outputs": [
    {
     "data": {
      "text/html": [
       "<div style=\"max-height:1000px;max-width:1500px;overflow:auto;\">\n",
       "<table border=\"1\" class=\"dataframe\">\n",
       "  <thead>\n",
       "    <tr style=\"text-align: right;\">\n",
       "      <th></th>\n",
       "      <th>user_id</th>\n",
       "      <th>artist_id</th>\n",
       "      <th>count</th>\n",
       "    </tr>\n",
       "  </thead>\n",
       "  <tbody>\n",
       "    <tr>\n",
       "      <th>0</th>\n",
       "      <td> 0000039a-0330-4bbf-81c6-889e5d68ba8a</td>\n",
       "      <td>     vic-mensa</td>\n",
       "      <td>  1</td>\n",
       "    </tr>\n",
       "    <tr>\n",
       "      <th>1</th>\n",
       "      <td> 00000793-66ae-4892-b602-182bf93d5ae9</td>\n",
       "      <td>         drake</td>\n",
       "      <td>  1</td>\n",
       "    </tr>\n",
       "    <tr>\n",
       "      <th>2</th>\n",
       "      <td> 000007d4-e70e-4780-b989-2f41169306c2</td>\n",
       "      <td>    zayn-malik</td>\n",
       "      <td>  1</td>\n",
       "    </tr>\n",
       "    <tr>\n",
       "      <th>3</th>\n",
       "      <td> 00000bb9-b326-44fa-8b3d-f5e741f86826</td>\n",
       "      <td> august-alsina</td>\n",
       "      <td>  2</td>\n",
       "    </tr>\n",
       "    <tr>\n",
       "      <th>4</th>\n",
       "      <td> 00000bb9-b326-44fa-8b3d-f5e741f86826</td>\n",
       "      <td>    jhene-aiko</td>\n",
       "      <td> 44</td>\n",
       "    </tr>\n",
       "  </tbody>\n",
       "</table>\n",
       "</div>"
      ],
      "text/plain": [
       "                                user_id      artist_id  count\n",
       "0  0000039a-0330-4bbf-81c6-889e5d68ba8a      vic-mensa      1\n",
       "1  00000793-66ae-4892-b602-182bf93d5ae9          drake      1\n",
       "2  000007d4-e70e-4780-b989-2f41169306c2     zayn-malik      1\n",
       "3  00000bb9-b326-44fa-8b3d-f5e741f86826  august-alsina      2\n",
       "4  00000bb9-b326-44fa-8b3d-f5e741f86826     jhene-aiko     44"
      ]
     },
     "execution_count": 99,
     "metadata": {},
     "output_type": "execute_result"
    }
   ],
   "source": [
    "#group and aggregate the data so that we can get a listen count by artist/user combination.\n",
    "#this is the format needed by the recommender system library we're using.\n",
    "#Since I dont have a formal \"rating\" a listen count is the metric used in it's place.\n",
    "aggregated_df = pd.DataFrame({'count' : listens_raw_df.groupby(['user_id', 'artist_id']).size()}).reset_index()\n",
    "aggregated_df.head()"
   ]
  },
  {
   "cell_type": "code",
   "execution_count": 49,
   "metadata": {
    "collapsed": false
   },
   "outputs": [],
   "source": [
    "#bin the raw listen counts to ratings...\n",
    "def get_rating_from_count(count):\n",
    "    if count <= 2:\n",
    "        return 1\n",
    "    elif 3 <= count <= 5:\n",
    "        return 2\n",
    "    elif 6 <= count <= 10:\n",
    "        return 3\n",
    "    elif 11 <= count <= 15:\n",
    "        return 4\n",
    "    else:\n",
    "        return 5"
   ]
  },
  {
   "cell_type": "code",
   "execution_count": 54,
   "metadata": {
    "collapsed": false,
    "scrolled": true
   },
   "outputs": [
    {
     "data": {
      "text/html": [
       "<div style=\"max-height:1000px;max-width:1500px;overflow:auto;\">\n",
       "<table border=\"1\" class=\"dataframe\">\n",
       "  <thead>\n",
       "    <tr style=\"text-align: right;\">\n",
       "      <th></th>\n",
       "      <th>user_id</th>\n",
       "      <th>artist_id</th>\n",
       "      <th>count</th>\n",
       "      <th>rating</th>\n",
       "    </tr>\n",
       "  </thead>\n",
       "  <tbody>\n",
       "    <tr>\n",
       "      <th>0</th>\n",
       "      <td> 0000039a-0330-4bbf-81c6-889e5d68ba8a</td>\n",
       "      <td>     vic-mensa</td>\n",
       "      <td>  1</td>\n",
       "      <td> 1</td>\n",
       "    </tr>\n",
       "    <tr>\n",
       "      <th>1</th>\n",
       "      <td> 00000793-66ae-4892-b602-182bf93d5ae9</td>\n",
       "      <td>         drake</td>\n",
       "      <td>  1</td>\n",
       "      <td> 1</td>\n",
       "    </tr>\n",
       "    <tr>\n",
       "      <th>2</th>\n",
       "      <td> 000007d4-e70e-4780-b989-2f41169306c2</td>\n",
       "      <td>    zayn-malik</td>\n",
       "      <td>  1</td>\n",
       "      <td> 1</td>\n",
       "    </tr>\n",
       "    <tr>\n",
       "      <th>3</th>\n",
       "      <td> 00000bb9-b326-44fa-8b3d-f5e741f86826</td>\n",
       "      <td> august-alsina</td>\n",
       "      <td>  2</td>\n",
       "      <td> 1</td>\n",
       "    </tr>\n",
       "    <tr>\n",
       "      <th>4</th>\n",
       "      <td> 00000bb9-b326-44fa-8b3d-f5e741f86826</td>\n",
       "      <td>    jhene-aiko</td>\n",
       "      <td> 44</td>\n",
       "      <td> 5</td>\n",
       "    </tr>\n",
       "  </tbody>\n",
       "</table>\n",
       "</div>"
      ],
      "text/plain": [
       "                                user_id      artist_id  count  rating\n",
       "0  0000039a-0330-4bbf-81c6-889e5d68ba8a      vic-mensa      1       1\n",
       "1  00000793-66ae-4892-b602-182bf93d5ae9          drake      1       1\n",
       "2  000007d4-e70e-4780-b989-2f41169306c2     zayn-malik      1       1\n",
       "3  00000bb9-b326-44fa-8b3d-f5e741f86826  august-alsina      2       1\n",
       "4  00000bb9-b326-44fa-8b3d-f5e741f86826     jhene-aiko     44       5"
      ]
     },
     "execution_count": 54,
     "metadata": {},
     "output_type": "execute_result"
    }
   ],
   "source": [
    "# df['newcolumn'] = df.apply(lambda x: fxy(x['A'], x['B']), axis=1)\n",
    "aggregated_df[\"rating\"] = aggregated_df.apply(lambda x: get_rating_from_count(x[\"count\"]), axis=1)\n",
    "aggregated_df.head()"
   ]
  },
  {
   "cell_type": "code",
   "execution_count": 34,
   "metadata": {
    "collapsed": false
   },
   "outputs": [],
   "source": [
    "#LabelEncode the artist-id and user-id and turn them into integers so the recommender system can use them.\n",
    "from sklearn import preprocessing\n",
    "le_user = preprocessing.LabelEncoder()\n",
    "le_artist = preprocessing.LabelEncoder()\n",
    "aggregated_df[\"artist_enc_id\"] = le_artist.fit_transform(aggregated_df.artist_id)\n",
    "aggregated_df[\"user_enc_id\"] = le_user.fit_transform(aggregated_df.user_id)"
   ]
  },
  {
   "cell_type": "code",
   "execution_count": 100,
   "metadata": {
    "collapsed": false
   },
   "outputs": [
    {
     "data": {
      "text/html": [
       "<div style=\"max-height:1000px;max-width:1500px;overflow:auto;\">\n",
       "<table border=\"1\" class=\"dataframe\">\n",
       "  <thead>\n",
       "    <tr style=\"text-align: right;\">\n",
       "      <th></th>\n",
       "      <th>artist_id</th>\n",
       "      <th>count</th>\n",
       "    </tr>\n",
       "  </thead>\n",
       "  <tbody>\n",
       "    <tr>\n",
       "      <th>0</th>\n",
       "      <td>        $amael</td>\n",
       "      <td> 1</td>\n",
       "    </tr>\n",
       "    <tr>\n",
       "      <th>1</th>\n",
       "      <td>  $ean-$homojo</td>\n",
       "      <td> 9</td>\n",
       "    </tr>\n",
       "    <tr>\n",
       "      <th>2</th>\n",
       "      <td> $erious-klein</td>\n",
       "      <td> 2</td>\n",
       "    </tr>\n",
       "    <tr>\n",
       "      <th>3</th>\n",
       "      <td>      $g.money</td>\n",
       "      <td> 1</td>\n",
       "    </tr>\n",
       "    <tr>\n",
       "      <th>4</th>\n",
       "      <td>           $gt</td>\n",
       "      <td> 1</td>\n",
       "    </tr>\n",
       "  </tbody>\n",
       "</table>\n",
       "</div>"
      ],
      "text/plain": [
       "       artist_id  count\n",
       "0         $amael      1\n",
       "1   $ean-$homojo      9\n",
       "2  $erious-klein      2\n",
       "3       $g.money      1\n",
       "4            $gt      1"
      ]
     },
     "execution_count": 100,
     "metadata": {},
     "output_type": "execute_result"
    }
   ],
   "source": [
    "#show the counts for the top artists...\n",
    "artist_grouped = pd.DataFrame({'count' : aggregated_df.groupby(['artist_id']).size()}).reset_index()\n",
    "artist_grouped.head()"
   ]
  },
  {
   "cell_type": "code",
   "execution_count": 141,
   "metadata": {
    "collapsed": false
   },
   "outputs": [
    {
     "name": "stdout",
     "output_type": "stream",
     "text": [
      "0.0441732133634\n"
     ]
    },
    {
     "data": {
      "text/plain": [
       "0.90200151273575435"
      ]
     },
     "execution_count": 141,
     "metadata": {},
     "output_type": "execute_result"
    }
   ],
   "source": [
    "#get the percentage of listens to artists to show in presentation...\n",
    "print 13000.0/len(artist_grouped)\n",
    "# artist_grouped.sort(\"count\",ascending=False)[\"count\"].sum()/20746234.0\n",
    "artist_grouped.sort(\"count\",ascending=False)[\"count\"].head(13000).sum()/10481672.0 "
   ]
  },
  {
   "cell_type": "code",
   "execution_count": 17,
   "metadata": {
    "collapsed": false
   },
   "outputs": [
    {
     "data": {
      "image/png": "[encoded data removed]",
      "text/plain": [
       "<matplotlib.figure.Figure at 0x10c229210>"
      ]
     },
     "metadata": {},
     "output_type": "display_data"
    }
   ],
   "source": [
    "#the plot shows that there are a few artists at the top with the most listens and it drops off considerably after that.\n",
    "#this is presents a problem when creating a recommender system becuase there isn't enough listening data \n",
    "#for those artists at the far end of the tail.\n",
    "plot_set.sort(columns=[\"count\"], ascending=False).head()\n",
    "fig = plt.figure(figsize=(20,12))\n",
    "fig.suptitle('Listen counts for top 50 artists', size=32)\n",
    "pl = plot_set.sort(columns=[\"count\"], ascending=False).head(50).plot(kind='bar', x=\"artist_id\",y=\"count\")\n",
    "pl.tick_params(axis='both', which='major', labelsize=20)"
   ]
  },
  {
   "cell_type": "code",
   "execution_count": 64,
   "metadata": {
    "collapsed": false
   },
   "outputs": [],
   "source": [
    "#write to a csv so the python-recsys utility can read it.\n",
    "# aggregated_df.to_csv(\"artist_ratings.dat\", header=False, index=False, columns=[\"user_enc_id\",\"artist_enc_id\",\"count\"])\n",
    "aggregated_df.to_csv(\"artist_ratings_2.dat\", header=False, index=False, columns=[\"user_enc_id\",\"artist_enc_id\",\"rating\"])\n",
    "# aggregated_df.head()"
   ]
  },
  {
   "cell_type": "code",
   "execution_count": 16,
   "metadata": {
    "collapsed": false
   },
   "outputs": [],
   "source": [
    "#load the recsys libraries\n",
    "import recsys.algorithm\n",
    "recsys.algorithm.VERBOSE = True\n",
    "from recsys.algorithm.factorize import SVD\n",
    "svd = SVD()"
   ]
  },
  {
   "cell_type": "code",
   "execution_count": null,
   "metadata": {
    "collapsed": false
   },
   "outputs": [
    {
     "name": "stdout",
     "output_type": "stream",
     "text": [
      "Loading artist_ratings.dat\n",
      "..........|..........|..........|..........|..........|..........|..."
     ]
    }
   ],
   "source": [
    "#NOTE::You dont have to run this.  The matrix is saved to a file.\n",
    "#load the data and create the matrix..this takes awhile.\n",
    "# svd.load_data(filename='artist_ratings_3.dat', sep=',', format={'col':0, 'row':1, 'value':2, 'ids': int})\n",
    "# k = 100\n",
    "# svd.compute(k=k, min_values=500, pre_normalize=None, mean_center=True, post_normalize=True, savefile='artist_matrix_500')"
   ]
  },
  {
   "cell_type": "code",
   "execution_count": 35,
   "metadata": {
    "collapsed": false
   },
   "outputs": [],
   "source": [
    "#function to get similarities...\n",
    "def get_similar_artists(artist_name):\n",
    "    try:\n",
    "        artist_url = slugify(artist_name)\n",
    "        artist_ = np.where(artist_labels == artist_url)\n",
    "        answer = svd.similar(artist_[0][0])\n",
    "        answers = []\n",
    "        for a in answer[1::]:\n",
    "            answers.append(artist_labels[a[0]])\n",
    "        return answers\n",
    "    except Exception as inst:\n",
    "        return []\n"
   ]
  },
  {
   "cell_type": "code",
   "execution_count": 156,
   "metadata": {
    "collapsed": false
   },
   "outputs": [
    {
     "name": "stdout",
     "output_type": "stream",
     "text": [
      "similar artists to lil wayne:\n",
      "2-chainz\n",
      "meek-mill\n",
      "rick-ross\n",
      "rich-gang\n",
      "big-sean\n",
      "drake\n",
      "young-money\n",
      "micachu\n",
      "the-hard-lessons\n",
      "\n",
      "similar artists to classixx:\n",
      "toro-y-moi\n",
      "the-alchemist\n",
      "the-bots\n",
      "nile-rodgers\n",
      "raines\n",
      "the-beloved\n",
      "thom-shepherd\n",
      "weebl\n",
      "american-girl\n",
      "\n",
      "similar artists to bonobo:\n",
      "cliff-nobles\n",
      "danger-doom\n",
      "spoon\n",
      "a-place-to-bury-strangers\n",
      "toro-y-moi\n",
      "tim-armstrong\n",
      "jones\n",
      "brandi-carlile\n",
      "haim\n",
      "\n",
      "similar artists to sturgill simpson:\n",
      "grizfolk\n",
      "bad-suns\n",
      "parov-stelar\n",
      "moderat\n",
      "nicki-minaj-ft.-drake-lil-wayne-and-trey-dryer-remix\n",
      "black-rebel-motorcycle-club\n",
      "sugar\n",
      "athlete\n",
      "next\n"
     ]
    }
   ],
   "source": [
    "#test on some similar artists...\n",
    "print \"similar artists to lil wayne:\\n\" + '\\n'.join(get_similar_artists('drake'))\n",
    "print \"\"\n",
    "print \"similar artists to classixx:\\n\" + '\\n'.join(get_similar_artists('classixx'))\n",
    "print \"\"\n",
    "print \"similar artists to michael-jackson:\\n\" + '\\n'.join(get_similar_artists('michael jackson'))\n",
    "print \"\"\n",
    "print \"similar artists to drake:\\n\" + '\\n'.join(get_similar_artists('drake'))\n",
    "print \"\"\n",
    "print \"similar artists to bonobo:\\n\" + '\\n'.join(get_similar_artists('bonobo'))\n",
    "print \"\"\n",
    "print \"similar artists to sturgill simpson:\\n\" + '\\n'.join(get_similar_artists('sturgill simpson'))"
   ]
  },
  {
   "cell_type": "code",
   "execution_count": 103,
   "metadata": {
    "collapsed": true
   },
   "outputs": [],
   "source": [
    "#get some recommendations from lastfm to verify\n",
    "artist_memo={}\n",
    "def get_last_fm_recommendations(artist_name): \n",
    "    if not artist_name in artist_memo:\n",
    "        try:\n",
    "            my_api_key = \"93d0db9e1aa8bae64f719b923f8c9231 \"\n",
    "            api_url =\"http://ws.audioscrobbler.com/2.0/?method=artist.getsimilar&format=json&artist=\" + urllib.quote_plus(artist_name) + \"&api_key=\" + my_api_key    \n",
    "            response = urllib2.urlopen(api_url).read()\n",
    "            data = json.loads(response)    \n",
    "            artists=[]\n",
    "            for artist in data['similarartists']['artist'][0:9]:\n",
    "                artists.append(slugify(artist['name']))\n",
    "            artist_memo[artist_name] = artists\n",
    "        except:\n",
    "            artist_memo[artist_name] = []        \n",
    "    return artist_memo[artist_name]"
   ]
  },
  {
   "cell_type": "code",
   "execution_count": 68,
   "metadata": {
    "collapsed": false
   },
   "outputs": [
    {
     "data": {
      "text/plain": [
       "u'Drake'"
      ]
     },
     "execution_count": 68,
     "metadata": {},
     "output_type": "execute_result"
    }
   ],
   "source": [
    "#use the bop api to get the name from the url...\n",
    "def get_artist_name_from_url(artist_url):\n",
    "    api_url = \"https://bop.fm/a/\" + artist_url + \"?json=1&type=simple\"\n",
    "    request = urllib2.Request(api_url, headers={\"BOPFM-AUTH-TOKEN\" : \"3980394809432743912930\"})\n",
    "    response = urllib2.urlopen(request).read()\n",
    "    data = json.loads(response)\n",
    "    return data[\"name\"]\n",
    "    \n",
    "get_artist_name_from_url(\"drake\")"
   ]
  },
  {
   "cell_type": "code",
   "execution_count": 250,
   "metadata": {
    "collapsed": true
   },
   "outputs": [],
   "source": [
    "#use the bop api to get the genre from the url\n",
    "def get_artist_genre_from_url(artist_url):\n",
    "    try:\n",
    "        api_url = \"https://bop.fm/a/\" + artist_url + \"?json=1&type=simple\"\n",
    "        request = urllib2.Request(api_url, headers={\"BOPFM-AUTH-TOKEN\" : \"3980394809432743912930\"})\n",
    "        response = urllib2.urlopen(request).read()\n",
    "        data = json.loads(response)\n",
    "        print artist_url + \" - \" + data[\"itunes_genre\"]\n",
    "        return data[\"itunes_genre\"]\n",
    "    except Exception as inst:\n",
    "        print \"Unexpected error:\", inst\n",
    "        return None"
   ]
  },
  {
   "cell_type": "code",
   "execution_count": 252,
   "metadata": {
    "collapsed": false
   },
   "outputs": [
    {
     "name": "stdout",
     "output_type": "stream",
     "text": [
      "drake - Hip Hop/Rap\n"
     ]
    },
    {
     "data": {
      "text/plain": [
       "u'Hip Hop/Rap'"
      ]
     },
     "execution_count": 252,
     "metadata": {},
     "output_type": "execute_result"
    }
   ],
   "source": [
    "get_artist_genre_from_url(\"drake\")"
   ]
  },
  {
   "cell_type": "code",
   "execution_count": 83,
   "metadata": {
    "collapsed": false
   },
   "outputs": [],
   "source": [
    "#get the top 200 artists to verify against.\n",
    "artist_top = artist_aggregated.head(200)"
   ]
  },
  {
   "cell_type": "code",
   "execution_count": 100,
   "metadata": {
    "collapsed": false
   },
   "outputs": [],
   "source": [
    "#apply the different facets..\n",
    "artist_top[\"artist_name\"] = artist_top.apply(lambda x: get_artist_name_from_url(x[\"artist_id\"]), axis=1)\n",
    "artist_top[\"last_fm_recs\"] = artist_top.apply(lambda x: get_last_fm_recommendations(x[\"artist_name\"]), axis=1)\n",
    "artist_grouped[\"genre\"] = artist_grouped.apply(lambda x: get_artist_genre_from_url(x[\"artist_id\"]), axis=1)"
   ]
  },
  {
   "cell_type": "code",
   "execution_count": 214,
   "metadata": {
    "collapsed": false
   },
   "outputs": [],
   "source": [
    "#get the metrics score per artist...\n",
    "from recsys.evaluation.decision import PrecisionRecallF1\n",
    "def get_eval_metrics_for_artist(artist_name):    \n",
    "    gt = get_last_fm_recommendations(artist_name)\n",
    "    test = get_similar_artists(artist_name)\n",
    "    decision = PrecisionRecallF1()\n",
    "    decision.load(gt, test)\n",
    "    return decision.compute()"
   ]
  },
  {
   "cell_type": "code",
   "execution_count": 1,
   "metadata": {
    "collapsed": false
   },
   "outputs": [],
   "source": [
    "def print_precision_recall(artist_name):\n",
    "    print artist_name + str(get_eval_metrics_for_artist(artist_name))\n",
    "\n",
    "def get_precision_recall(artist_name): \n",
    "    tpl =  get_eval_metrics_for_artist(artist_name)\n",
    "    return [tpl[0], tpl[1]]\n",
    "\n",
    "\n"
   ]
  },
  {
   "cell_type": "markdown",
   "metadata": {},
   "source": [
    "-------------------------------------------------------------------------------------"
   ]
  },
  {
   "cell_type": "markdown",
   "metadata": {},
   "source": [
    "###Running the algorithm for different datasets.\n",
    "##Note: a lot of the compiling of the matricies was done on an ec2 instance."
   ]
  },
  {
   "cell_type": "code",
   "execution_count": 2,
   "metadata": {
    "collapsed": false
   },
   "outputs": [
    {
     "data": {
      "text/html": [
       "<div style=\"max-height:1000px;max-width:1500px;overflow:auto;\">\n",
       "<table border=\"1\" class=\"dataframe\">\n",
       "  <thead>\n",
       "    <tr style=\"text-align: right;\">\n",
       "      <th></th>\n",
       "      <th>artist_id</th>\n",
       "      <th>artist_name</th>\n",
       "      <th>count</th>\n",
       "      <th>last_fm_recs</th>\n",
       "    </tr>\n",
       "  </thead>\n",
       "  <tbody>\n",
       "    <tr>\n",
       "      <th>103695</th>\n",
       "      <td>             gs9</td>\n",
       "      <td>           GS9</td>\n",
       "      <td>  5531</td>\n",
       "      <td> [lil-bibby, bobby-shmurda, og-maco, rowdy-rebe...</td>\n",
       "    </tr>\n",
       "    <tr>\n",
       "      <th>103829</th>\n",
       "      <td>      gucci-mane</td>\n",
       "      <td>    Gucci Mane</td>\n",
       "      <td> 21498</td>\n",
       "      <td> [chief-keef, migos, waka-flocka-flame, young-s...</td>\n",
       "    </tr>\n",
       "    <tr>\n",
       "      <th>111679</th>\n",
       "      <td>          hopsin</td>\n",
       "      <td>        Hopsin</td>\n",
       "      <td>  6509</td>\n",
       "      <td> [hopsin-swizzz, swizzz, jarren-benton, tech-n9...</td>\n",
       "    </tr>\n",
       "    <tr>\n",
       "      <th>112418</th>\n",
       "      <td>          hozier</td>\n",
       "      <td>        Hozier</td>\n",
       "      <td> 22390</td>\n",
       "      <td> [james-bay, george-ezra, vance-joy, sam-smith,...</td>\n",
       "    </tr>\n",
       "    <tr>\n",
       "      <th>113583</th>\n",
       "      <td> i-love-makonnen</td>\n",
       "      <td> ILoveMakonnen</td>\n",
       "      <td> 31741</td>\n",
       "      <td> [father, young-thug, i-love-makonnen, rich-gan...</td>\n",
       "    </tr>\n",
       "  </tbody>\n",
       "</table>\n",
       "</div>"
      ],
      "text/plain": [
       "              artist_id    artist_name  count  \\\n",
       "103695              gs9            GS9   5531   \n",
       "103829       gucci-mane     Gucci Mane  21498   \n",
       "111679           hopsin         Hopsin   6509   \n",
       "112418           hozier         Hozier  22390   \n",
       "113583  i-love-makonnen  ILoveMakonnen  31741   \n",
       "\n",
       "                                             last_fm_recs  \n",
       "103695  [lil-bibby, bobby-shmurda, og-maco, rowdy-rebe...  \n",
       "103829  [chief-keef, migos, waka-flocka-flame, young-s...  \n",
       "111679  [hopsin-swizzz, swizzz, jarren-benton, tech-n9...  \n",
       "112418  [james-bay, george-ezra, vance-joy, sam-smith,...  \n",
       "113583  [father, young-thug, i-love-makonnen, rich-gan...  "
      ]
     },
     "execution_count": 2,
     "metadata": {},
     "output_type": "execute_result"
    }
   ],
   "source": [
    "#load the top artists..\n",
    "artist_top_df = pd.read_json(\"artist_top.json\")\n",
    "artist_top_df = artist_top_df.drop(\"last_fm_recs_list\",1)\n",
    "artist_top_df.head()"
   ]
  },
  {
   "cell_type": "code",
   "execution_count": 9,
   "metadata": {
    "collapsed": true
   },
   "outputs": [],
   "source": [
    "from recsys.evaluation.decision import PrecisionRecallF1\n",
    "def get_eval_metrics_for_artist2(my_recs, last_fm_recs):    \n",
    "    try:\n",
    "        gt = last_fm_recs\n",
    "        test = my_recs\n",
    "        decision = PrecisionRecallF1()\n",
    "        decision.load(gt, test)\n",
    "        pre,recall,f1 = decision.compute()\n",
    "        return f1\n",
    "    except:\n",
    "        return None"
   ]
  },
  {
   "cell_type": "code",
   "execution_count": 142,
   "metadata": {
    "collapsed": true
   },
   "outputs": [],
   "source": [
    "matrix_map = {\"artist_matrix_100\":\"100\",\n",
    "              \"artist_matrix_500\":\"500\",\n",
    "              \"artist_matrix_800\":\"800\",\n",
    "              \"artist_matrix_1000\":\"1000\",\n",
    "              \"artist_matrix_2_100\":\"bin_100\",\n",
    "              \"artist_matrix_2_500\":\"bin_500\",\n",
    "              \"artist_matrix_2_800\":\"bin_800\",\n",
    "              \"artist_matrix_2_1000\":\"bin_1000\",\n",
    "              \"artist_matrix_3_100\" : \"genre_100\",\n",
    "              \"artist_matrix_3_500\" : \"genre_500\",\n",
    "              \"artist_matrix_3_800\" : \"genre_800\",\n",
    "              \"artist_matrix_3_1000\" : \"genre_1000\"\n",
    "             }"
   ]
  },
  {
   "cell_type": "code",
   "execution_count": 148,
   "metadata": {
    "collapsed": false
   },
   "outputs": [],
   "source": [
    "#create my columns and f1 values...\n",
    "for key, value in matrix_map.iteritems():    \n",
    "    svd = SVD(filename=key)\n",
    "    artist_top_df[\"my_recs_\" + value] = artist_top_df.apply(lambda x: get_similar_artists(x[\"artist_id\"]), axis=1)\n",
    "    artist_top_df[\"f1_\" + value] = artist_top_df.apply(lambda x: get_eval_metrics_for_artist2(x[\"my_recs_\" + value], x[\"last_fm_recs\"]), axis=1)\n"
   ]
  },
  {
   "cell_type": "code",
   "execution_count": 149,
   "metadata": {
    "collapsed": false
   },
   "outputs": [
    {
     "data": {
      "image/png": "[encoded data removed]",
      "text/plain": [
       "<matplotlib.figure.Figure at 0x11049ba10>"
      ]
     },
     "metadata": {},
     "output_type": "display_data"
    }
   ],
   "source": [
    "fig = plt.figure(figsize=(20,12))\n",
    "fig.suptitle('F1 Scores for model approaches', size=32)\n",
    "plt.xlabel('models', fontsize=18)\n",
    "plt.ylabel('f1', fontsize=18)\n",
    "p = artist_top_df.boxplot(return_type='axes', column=[\"f1_100\", \"f1_500\", \"f1_800\", \"f1_1000\",\"f1_bin_100\", \"f1_bin_500\", \"f1_bin_800\", \"f1_bin_1000\",\"f1_genre_100\", \"f1_genre_500\",\"f1_genre_800\",\"f1_genre_1000\"],rot=\"45\")\n",
    "p.tick_params(axis='both', which='major', labelsize=20)"
   ]
  }
 ],
 "metadata": {
  "kernelspec": {
   "display_name": "Python 2",
   "language": "python",
   "name": "python2"
  },
  "language_info": {
   "codemirror_mode": {
    "name": "ipython",
    "version": 2
   },
   "file_extension": ".py",
   "mimetype": "text/x-python",
   "name": "python",
   "nbconvert_exporter": "python",
   "pygments_lexer": "ipython2",
   "version": "2.7.9"
  }
 },
 "nbformat": 4,
 "nbformat_minor": 0
}
