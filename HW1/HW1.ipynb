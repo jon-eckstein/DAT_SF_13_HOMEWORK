{
 "metadata": {
  "name": "",
  "signature": "sha256:b3de84a5cc838d862cfca1ebf60409bc6223ed0e736bb166d1e9e8dd9c24234a"
 },
 "nbformat": 3,
 "nbformat_minor": 0,
 "worksheets": [
  {
   "cells": [
    {
     "cell_type": "code",
     "collapsed": false,
     "input": [
      "import pandas as pd\n",
      "import numpy as np\n",
      "\n",
      "pd.set_option('display.precision', 2)"
     ],
     "language": "python",
     "metadata": {},
     "outputs": [],
     "prompt_number": 172
    },
    {
     "cell_type": "code",
     "collapsed": false,
     "input": [
      "titanic_data = pd.read_csv('titanic.csv')"
     ],
     "language": "python",
     "metadata": {},
     "outputs": [],
     "prompt_number": 173
    },
    {
     "cell_type": "code",
     "collapsed": false,
     "input": [
      "titanic_data.head()"
     ],
     "language": "python",
     "metadata": {},
     "outputs": [
      {
       "html": [
        "<div style=\"max-height:1000px;max-width:1500px;overflow:auto;\">\n",
        "<table border=\"1\" class=\"dataframe\">\n",
        "  <thead>\n",
        "    <tr style=\"text-align: right;\">\n",
        "      <th></th>\n",
        "      <th>PassengerId</th>\n",
        "      <th>Survived</th>\n",
        "      <th>Pclass</th>\n",
        "      <th>Name</th>\n",
        "      <th>Sex</th>\n",
        "      <th>Age</th>\n",
        "      <th>SibSp</th>\n",
        "      <th>Parch</th>\n",
        "      <th>Ticket</th>\n",
        "      <th>Fare</th>\n",
        "      <th>Cabin</th>\n",
        "      <th>Embarked</th>\n",
        "    </tr>\n",
        "  </thead>\n",
        "  <tbody>\n",
        "    <tr>\n",
        "      <th>0</th>\n",
        "      <td> 1</td>\n",
        "      <td> 0</td>\n",
        "      <td> 3</td>\n",
        "      <td>                           Braund, Mr. Owen Harris</td>\n",
        "      <td>   male</td>\n",
        "      <td> 22</td>\n",
        "      <td> 1</td>\n",
        "      <td> 0</td>\n",
        "      <td>        A/5 21171</td>\n",
        "      <td>  7.2</td>\n",
        "      <td>  NaN</td>\n",
        "      <td> S</td>\n",
        "    </tr>\n",
        "    <tr>\n",
        "      <th>1</th>\n",
        "      <td> 2</td>\n",
        "      <td> 1</td>\n",
        "      <td> 1</td>\n",
        "      <td> Cumings, Mrs. John Bradley (Florence Briggs Th...</td>\n",
        "      <td> female</td>\n",
        "      <td> 38</td>\n",
        "      <td> 1</td>\n",
        "      <td> 0</td>\n",
        "      <td>         PC 17599</td>\n",
        "      <td> 71.3</td>\n",
        "      <td>  C85</td>\n",
        "      <td> C</td>\n",
        "    </tr>\n",
        "    <tr>\n",
        "      <th>2</th>\n",
        "      <td> 3</td>\n",
        "      <td> 1</td>\n",
        "      <td> 3</td>\n",
        "      <td>                            Heikkinen, Miss. Laina</td>\n",
        "      <td> female</td>\n",
        "      <td> 26</td>\n",
        "      <td> 0</td>\n",
        "      <td> 0</td>\n",
        "      <td> STON/O2. 3101282</td>\n",
        "      <td>  7.9</td>\n",
        "      <td>  NaN</td>\n",
        "      <td> S</td>\n",
        "    </tr>\n",
        "    <tr>\n",
        "      <th>3</th>\n",
        "      <td> 4</td>\n",
        "      <td> 1</td>\n",
        "      <td> 1</td>\n",
        "      <td>      Futrelle, Mrs. Jacques Heath (Lily May Peel)</td>\n",
        "      <td> female</td>\n",
        "      <td> 35</td>\n",
        "      <td> 1</td>\n",
        "      <td> 0</td>\n",
        "      <td>           113803</td>\n",
        "      <td> 53.1</td>\n",
        "      <td> C123</td>\n",
        "      <td> S</td>\n",
        "    </tr>\n",
        "    <tr>\n",
        "      <th>4</th>\n",
        "      <td> 5</td>\n",
        "      <td> 0</td>\n",
        "      <td> 3</td>\n",
        "      <td>                          Allen, Mr. William Henry</td>\n",
        "      <td>   male</td>\n",
        "      <td> 35</td>\n",
        "      <td> 0</td>\n",
        "      <td> 0</td>\n",
        "      <td>           373450</td>\n",
        "      <td>  8.1</td>\n",
        "      <td>  NaN</td>\n",
        "      <td> S</td>\n",
        "    </tr>\n",
        "  </tbody>\n",
        "</table>\n",
        "</div>"
       ],
       "metadata": {},
       "output_type": "pyout",
       "prompt_number": 174,
       "text": [
        "   PassengerId  Survived  Pclass  \\\n",
        "0            1         0       3   \n",
        "1            2         1       1   \n",
        "2            3         1       3   \n",
        "3            4         1       1   \n",
        "4            5         0       3   \n",
        "\n",
        "                                                Name     Sex  Age  SibSp  \\\n",
        "0                            Braund, Mr. Owen Harris    male   22      1   \n",
        "1  Cumings, Mrs. John Bradley (Florence Briggs Th...  female   38      1   \n",
        "2                             Heikkinen, Miss. Laina  female   26      0   \n",
        "3       Futrelle, Mrs. Jacques Heath (Lily May Peel)  female   35      1   \n",
        "4                           Allen, Mr. William Henry    male   35      0   \n",
        "\n",
        "   Parch            Ticket  Fare Cabin Embarked  \n",
        "0      0         A/5 21171   7.2   NaN        S  \n",
        "1      0          PC 17599  71.3   C85        C  \n",
        "2      0  STON/O2. 3101282   7.9   NaN        S  \n",
        "3      0            113803  53.1  C123        S  \n",
        "4      0            373450   8.1   NaN        S  "
       ]
      }
     ],
     "prompt_number": 174
    },
    {
     "cell_type": "code",
     "collapsed": false,
     "input": [],
     "language": "python",
     "metadata": {},
     "outputs": []
    },
    {
     "cell_type": "heading",
     "level": 3,
     "metadata": {},
     "source": [
      "1. How many passengers are in our passenger list?"
     ]
    },
    {
     "cell_type": "code",
     "collapsed": false,
     "input": [
      "num_total = len(titanic_data)\n",
      "num_total"
     ],
     "language": "python",
     "metadata": {},
     "outputs": [
      {
       "metadata": {},
       "output_type": "pyout",
       "prompt_number": 175,
       "text": [
        "891"
       ]
      }
     ],
     "prompt_number": 175
    },
    {
     "cell_type": "heading",
     "level": 3,
     "metadata": {},
     "source": [
      "2. What is the overall survival rate?"
     ]
    },
    {
     "cell_type": "code",
     "collapsed": false,
     "input": [
      "num_survived = len(titanic_data[titanic_data.Survived == 1])\n",
      "float(num_survived)/num_total"
     ],
     "language": "python",
     "metadata": {},
     "outputs": [
      {
       "metadata": {},
       "output_type": "pyout",
       "prompt_number": 176,
       "text": [
        "0.3838383838383838"
       ]
      }
     ],
     "prompt_number": 176
    },
    {
     "cell_type": "heading",
     "level": 3,
     "metadata": {},
     "source": [
      "3. How many male passengers were onboard?"
     ]
    },
    {
     "cell_type": "code",
     "collapsed": false,
     "input": [
      "num_male = len(titanic_data[titanic_data.Sex == \"male\"])\n",
      "num_male"
     ],
     "language": "python",
     "metadata": {},
     "outputs": [
      {
       "metadata": {},
       "output_type": "pyout",
       "prompt_number": 177,
       "text": [
        "577"
       ]
      }
     ],
     "prompt_number": 177
    },
    {
     "cell_type": "heading",
     "level": 3,
     "metadata": {},
     "source": [
      "4. How many female passengers were onboard?"
     ]
    },
    {
     "cell_type": "code",
     "collapsed": false,
     "input": [
      "num_female = len(titanic_data[titanic_data.Sex == \"female\"])\n",
      "num_female"
     ],
     "language": "python",
     "metadata": {},
     "outputs": [
      {
       "metadata": {},
       "output_type": "pyout",
       "prompt_number": 178,
       "text": [
        "314"
       ]
      }
     ],
     "prompt_number": 178
    },
    {
     "cell_type": "heading",
     "level": 3,
     "metadata": {},
     "source": [
      "5. What is the overall survival rate of male passengers?"
     ]
    },
    {
     "cell_type": "code",
     "collapsed": false,
     "input": [
      "def num_survived_by_sex(sex): return len(titanic_data[(titanic_data.Sex == sex) & (titanic_data.Survived == 1)])\n",
      "\n",
      "float(num_survived_by_sex(\"male\"))/num_total"
     ],
     "language": "python",
     "metadata": {},
     "outputs": [
      {
       "metadata": {},
       "output_type": "pyout",
       "prompt_number": 179,
       "text": [
        "0.122334455667789"
       ]
      }
     ],
     "prompt_number": 179
    },
    {
     "cell_type": "heading",
     "level": 3,
     "metadata": {},
     "source": [
      "6. What is the overall survival rate of female passengers?"
     ]
    },
    {
     "cell_type": "code",
     "collapsed": false,
     "input": [
      "float(num_survived_by_sex(\"female\"))/num_total"
     ],
     "language": "python",
     "metadata": {},
     "outputs": [
      {
       "metadata": {},
       "output_type": "pyout",
       "prompt_number": 180,
       "text": [
        "0.2615039281705948"
       ]
      }
     ],
     "prompt_number": 180
    },
    {
     "cell_type": "heading",
     "level": 3,
     "metadata": {},
     "source": [
      "7. What is the average age of all passengers onboard?"
     ]
    },
    {
     "cell_type": "code",
     "collapsed": false,
     "input": [
      "mean_age=titanic_data.Age.mean()\n",
      "# print mean_age\n",
      "titanic_data[\"AgeImputed\"] = titanic_data.Age.map( lambda x: mean_age if np.isnan(x) else x)\n",
      "titanic_data.AgeImputed.mean()\n"
     ],
     "language": "python",
     "metadata": {},
     "outputs": [
      {
       "metadata": {},
       "output_type": "pyout",
       "prompt_number": 181,
       "text": [
        "29.69911764705882"
       ]
      }
     ],
     "prompt_number": 181
    },
    {
     "cell_type": "heading",
     "level": 4,
     "metadata": {},
     "source": [
      "a. How did you calculate this average age?"
     ]
    },
    {
     "cell_type": "markdown",
     "metadata": {},
     "source": [
      "used panda's mean() function on a new ImputedAge column"
     ]
    },
    {
     "cell_type": "heading",
     "level": 4,
     "metadata": {},
     "source": [
      "b. Note that some of the passengers do not have an age value. How did\n",
      "you deal with this? What are some other ways of dealing with this?"
     ]
    },
    {
     "cell_type": "markdown",
     "metadata": {},
     "source": [
      "Replaced all NaN values with the mean of all non NaN values.  Other ways of dealing with it are:\n",
      "* ignoring rows with NaN for age\n",
      "* use a random value from the set\n",
      "* sort the set in a meaningful way and replace the missing data with the data from the next highest or lowest row\n",
      "* use regression to estimate a value"
     ]
    },
    {
     "cell_type": "heading",
     "level": 3,
     "metadata": {},
     "source": [
      "8. What is the average age of passengers who survived?"
     ]
    },
    {
     "cell_type": "code",
     "collapsed": false,
     "input": [
      "titanic_data[titanic_data.Survived == 1].AgeImputed.mean()"
     ],
     "language": "python",
     "metadata": {},
     "outputs": [
      {
       "metadata": {},
       "output_type": "pyout",
       "prompt_number": 182,
       "text": [
        "28.549778121775027"
       ]
      }
     ],
     "prompt_number": 182
    },
    {
     "cell_type": "heading",
     "level": 3,
     "metadata": {},
     "source": [
      "9. What is the average age of passengers who did not survive?"
     ]
    },
    {
     "cell_type": "code",
     "collapsed": false,
     "input": [
      "titanic_data[titanic_data.Survived == 0].AgeImputed.mean()"
     ],
     "language": "python",
     "metadata": {},
     "outputs": [
      {
       "metadata": {},
       "output_type": "pyout",
       "prompt_number": 183,
       "text": [
        "30.415099646415943"
       ]
      }
     ],
     "prompt_number": 183
    },
    {
     "cell_type": "heading",
     "level": 3,
     "metadata": {},
     "source": [
      "10. At this (early) point in our analysis, what might you infer about any patterns\n",
      "you are seeing?"
     ]
    },
    {
     "cell_type": "markdown",
     "metadata": {},
     "source": [
      "A younger female was more likely to survive than an older male, probably due to chivalry (ie. \"women and children first\")"
     ]
    },
    {
     "cell_type": "heading",
     "level": 3,
     "metadata": {},
     "source": [
      "11. How many passengers are in each of the three classes of service (e.g. First,\n",
      "Second, Third?)"
     ]
    },
    {
     "cell_type": "code",
     "collapsed": false,
     "input": [
      "titanic_data.Pclass.value_counts()"
     ],
     "language": "python",
     "metadata": {},
     "outputs": [
      {
       "metadata": {},
       "output_type": "pyout",
       "prompt_number": 184,
       "text": [
        "3    491\n",
        "1    216\n",
        "2    184\n",
        "dtype: int64"
       ]
      }
     ],
     "prompt_number": 184
    },
    {
     "cell_type": "heading",
     "level": 3,
     "metadata": {},
     "source": [
      "12. What is the survival rate for passengers in each of the three classes of service?"
     ]
    },
    {
     "cell_type": "code",
     "collapsed": false,
     "input": [
      "class_survival_counts = titanic_data[titanic_data.Survived == 1].Pclass.value_counts()\n",
      "print class_survival_counts\n",
      "print class_survival_counts/num_total"
     ],
     "language": "python",
     "metadata": {},
     "outputs": [
      {
       "output_type": "stream",
       "stream": "stdout",
       "text": [
        "1    136\n",
        "3    119\n",
        "2     87\n",
        "dtype: int64\n",
        "1    0.2\n",
        "3    0.1\n",
        "2    0.1\n",
        "dtype: float64\n"
       ]
      }
     ],
     "prompt_number": 185
    },
    {
     "cell_type": "heading",
     "level": 3,
     "metadata": {},
     "source": [
      "13. What else might you conclude?"
     ]
    },
    {
     "cell_type": "markdown",
     "metadata": {},
     "source": [
      "Wealthier passengers were more likely to survive.  Fares for first class tickets were probably more expensive than other classes, we can assume people who bought first class were wealthier.  \n",
      "One interesting finding is that there was not a big difference in survival rate of 2nd and 3rd classes."
     ]
    },
    {
     "cell_type": "heading",
     "level": 3,
     "metadata": {},
     "source": [
      "14. Last, if we were to build a predictive model, which features in the data do you\n",
      "think we should include in the model and which can we leave out? Why?"
     ]
    },
    {
     "cell_type": "markdown",
     "metadata": {},
     "source": [
      "**Included features:**\n",
      "* Pclass - could be a determining factor of wealth\n",
      "* Fare - another possible determining factor of wealth\n",
      "* Sex - important demographic feature\n",
      "* Age - important demographic feature\n",
      "* Sibling-Spouse - could be used for answering a question like, \"was a person more likely to survive if they had help from siblings or spouses?\"\n",
      "* Parents-Children - same as above, could be useful in answer questions like \"was a person more likely to save thier children or parents vs themselves?\"\n",
      "* Cabin - Could be useful in determining surival rate based on where they may have been sleeping at the time.\n",
      "* Embarked - Could be another determinant of socio-economic status. Survival rates broken down by this feature seem to suggest that people who embarked from Southampton had a better survival rate so there may or may not be something valuable there. \n",
      "\n",
      "**Excluded features:**\n",
      "* Ticket - too arbitrary of a number to have utility in answering questions about survival\n"
     ]
    },
    {
     "cell_type": "heading",
     "level": 4,
     "metadata": {},
     "source": [
      "survival rate by embarkation port"
     ]
    },
    {
     "cell_type": "code",
     "collapsed": false,
     "input": [
      "def survival_rate_by_column(column_name): \n",
      "    grouped_survival = titanic_data[titanic_data.Survived == 1][column_name].value_counts() \n",
      "    return grouped_survival/num_total"
     ],
     "language": "python",
     "metadata": {},
     "outputs": [],
     "prompt_number": 190
    },
    {
     "cell_type": "code",
     "collapsed": false,
     "input": [
      "survival_rate_by_column(\"Embarked\")"
     ],
     "language": "python",
     "metadata": {},
     "outputs": [
      {
       "metadata": {},
       "output_type": "pyout",
       "prompt_number": 195,
       "text": [
        "S    0.2\n",
        "C    0.1\n",
        "Q    0.0\n",
        "dtype: float64"
       ]
      }
     ],
     "prompt_number": 195
    },
    {
     "cell_type": "code",
     "collapsed": false,
     "input": [],
     "language": "python",
     "metadata": {},
     "outputs": []
    }
   ],
   "metadata": {}
  }
 ]
}